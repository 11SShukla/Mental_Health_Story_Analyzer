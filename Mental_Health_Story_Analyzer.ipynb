{
 "cells": [
  {
   "cell_type": "code",
   "execution_count": 1,
   "id": "7930cc4a-b879-4e3d-9478-bff898c34f9a",
   "metadata": {},
   "outputs": [],
   "source": [
    "import numpy as np\n",
    "import pandas as pd\n",
    "import re\n",
    "import joblib\n",
    "import string\n",
    "from sklearn.feature_extraction.text import TfidfVectorizer\n",
    "from sklearn.preprocessing import LabelEncoder\n",
    "from tensorflow.keras.models import Sequential\n",
    "from tensorflow.keras.layers import Dense,Dropout\n",
    "import tensorflow as tf"
   ]
  },
  {
   "cell_type": "markdown",
   "id": "4fe6753d-0750-41e0-8558-9d01f4574583",
   "metadata": {},
   "source": [
    "# Data Preparation"
   ]
  },
  {
   "cell_type": "code",
   "execution_count": 2,
   "id": "3916a518-1e12-4788-a588-4e726a7c9298",
   "metadata": {},
   "outputs": [
    {
     "name": "stderr",
     "output_type": "stream",
     "text": [
      "C:\\Users\\apoor\\AppData\\Roaming\\Python\\Python312\\site-packages\\tqdm\\auto.py:21: TqdmWarning: IProgress not found. Please update jupyter and ipywidgets. See https://ipywidgets.readthedocs.io/en/stable/user_install.html\n",
      "  from .autonotebook import tqdm as notebook_tqdm\n"
     ]
    },
    {
     "name": "stdout",
     "output_type": "stream",
     "text": [
      "                                                text  label\n",
      "0                            i didnt feel humiliated      0\n",
      "1  i can go from feeling so hopeless to so damned...      0\n",
      "2   im grabbing a minute to post i feel greedy wrong      3\n",
      "3  i am ever feeling nostalgic about the fireplac...      2\n",
      "4                               i am feeling grouchy      3\n",
      "Columns: Index(['text', 'label'], dtype='object')\n"
     ]
    }
   ],
   "source": [
    "\n",
    "from datasets import load_dataset\n",
    "\n",
    "# Load dataset with split\n",
    "ds = load_dataset(\"dair-ai/emotion\", split=\"train\")\n",
    "\n",
    "# Convert to pandas DataFrame for easy viewing\n",
    "df_train = ds.to_pandas()\n",
    "\n",
    "# Display the first few rows\n",
    "print(df_train.head())\n",
    "\n",
    "# Show column names\n",
    "print(\"Columns:\", df_train.columns)\n"
   ]
  },
  {
   "cell_type": "code",
   "execution_count": 3,
   "id": "dc9c46b1-fa93-489e-9b82-699e37221ea4",
   "metadata": {},
   "outputs": [
    {
     "data": {
      "text/html": [
       "<div>\n",
       "<style scoped>\n",
       "    .dataframe tbody tr th:only-of-type {\n",
       "        vertical-align: middle;\n",
       "    }\n",
       "\n",
       "    .dataframe tbody tr th {\n",
       "        vertical-align: top;\n",
       "    }\n",
       "\n",
       "    .dataframe thead th {\n",
       "        text-align: right;\n",
       "    }\n",
       "</style>\n",
       "<table border=\"1\" class=\"dataframe\">\n",
       "  <thead>\n",
       "    <tr style=\"text-align: right;\">\n",
       "      <th></th>\n",
       "      <th>text</th>\n",
       "      <th>label</th>\n",
       "    </tr>\n",
       "  </thead>\n",
       "  <tbody>\n",
       "    <tr>\n",
       "      <th>0</th>\n",
       "      <td>im feeling quite sad and sorry for myself but ...</td>\n",
       "      <td>0</td>\n",
       "    </tr>\n",
       "    <tr>\n",
       "      <th>1</th>\n",
       "      <td>i feel like i am still looking at a blank canv...</td>\n",
       "      <td>0</td>\n",
       "    </tr>\n",
       "    <tr>\n",
       "      <th>2</th>\n",
       "      <td>i feel like a faithful servant</td>\n",
       "      <td>2</td>\n",
       "    </tr>\n",
       "    <tr>\n",
       "      <th>3</th>\n",
       "      <td>i am just feeling cranky and blue</td>\n",
       "      <td>3</td>\n",
       "    </tr>\n",
       "    <tr>\n",
       "      <th>4</th>\n",
       "      <td>i can have for a treat or if i am feeling festive</td>\n",
       "      <td>1</td>\n",
       "    </tr>\n",
       "  </tbody>\n",
       "</table>\n",
       "</div>"
      ],
      "text/plain": [
       "                                                text  label\n",
       "0  im feeling quite sad and sorry for myself but ...      0\n",
       "1  i feel like i am still looking at a blank canv...      0\n",
       "2                     i feel like a faithful servant      2\n",
       "3                  i am just feeling cranky and blue      3\n",
       "4  i can have for a treat or if i am feeling festive      1"
      ]
     },
     "execution_count": 3,
     "metadata": {},
     "output_type": "execute_result"
    }
   ],
   "source": [
    "ds=load_dataset(\"dair-ai/emotion\",split=\"validation\")\n",
    "df_validate=ds.to_pandas()\n",
    "df_validate.head()\n"
   ]
  },
  {
   "cell_type": "code",
   "execution_count": 4,
   "id": "ba00a53a-60e0-4814-9f7d-ec93f4983508",
   "metadata": {},
   "outputs": [
    {
     "data": {
      "text/html": [
       "<div>\n",
       "<style scoped>\n",
       "    .dataframe tbody tr th:only-of-type {\n",
       "        vertical-align: middle;\n",
       "    }\n",
       "\n",
       "    .dataframe tbody tr th {\n",
       "        vertical-align: top;\n",
       "    }\n",
       "\n",
       "    .dataframe thead th {\n",
       "        text-align: right;\n",
       "    }\n",
       "</style>\n",
       "<table border=\"1\" class=\"dataframe\">\n",
       "  <thead>\n",
       "    <tr style=\"text-align: right;\">\n",
       "      <th></th>\n",
       "      <th>text</th>\n",
       "      <th>label</th>\n",
       "    </tr>\n",
       "  </thead>\n",
       "  <tbody>\n",
       "    <tr>\n",
       "      <th>0</th>\n",
       "      <td>im feeling rather rotten so im not very ambiti...</td>\n",
       "      <td>0</td>\n",
       "    </tr>\n",
       "    <tr>\n",
       "      <th>1</th>\n",
       "      <td>im updating my blog because i feel shitty</td>\n",
       "      <td>0</td>\n",
       "    </tr>\n",
       "    <tr>\n",
       "      <th>2</th>\n",
       "      <td>i never make her separate from me because i do...</td>\n",
       "      <td>0</td>\n",
       "    </tr>\n",
       "    <tr>\n",
       "      <th>3</th>\n",
       "      <td>i left with my bouquet of red and yellow tulip...</td>\n",
       "      <td>1</td>\n",
       "    </tr>\n",
       "    <tr>\n",
       "      <th>4</th>\n",
       "      <td>i was feeling a little vain when i did this one</td>\n",
       "      <td>0</td>\n",
       "    </tr>\n",
       "  </tbody>\n",
       "</table>\n",
       "</div>"
      ],
      "text/plain": [
       "                                                text  label\n",
       "0  im feeling rather rotten so im not very ambiti...      0\n",
       "1          im updating my blog because i feel shitty      0\n",
       "2  i never make her separate from me because i do...      0\n",
       "3  i left with my bouquet of red and yellow tulip...      1\n",
       "4    i was feeling a little vain when i did this one      0"
      ]
     },
     "execution_count": 4,
     "metadata": {},
     "output_type": "execute_result"
    }
   ],
   "source": [
    "ds=load_dataset(\"dair-ai/emotion\",split=\"test\")\n",
    "df_test=ds.to_pandas()\n",
    "df_test.head()"
   ]
  },
  {
   "cell_type": "code",
   "execution_count": 5,
   "id": "c6c81dae-5029-4101-bcfe-68a4339b4fc6",
   "metadata": {},
   "outputs": [
    {
     "data": {
      "text/plain": [
       "label\n",
       "1    5362\n",
       "0    4666\n",
       "3    2159\n",
       "4    1937\n",
       "2    1304\n",
       "5     572\n",
       "Name: count, dtype: int64"
      ]
     },
     "execution_count": 5,
     "metadata": {},
     "output_type": "execute_result"
    }
   ],
   "source": [
    "df_train['label'].value_counts()"
   ]
  },
  {
   "cell_type": "markdown",
   "id": "401bf113-302a-47b2-ba06-2d2c841f8c54",
   "metadata": {},
   "source": [
    "# Data-preprocessing"
   ]
  },
  {
   "cell_type": "code",
   "execution_count": 6,
   "id": "81cd6db7-3678-4a43-81b3-3b4e1f3930e2",
   "metadata": {},
   "outputs": [],
   "source": [
    "import nltk\n",
    "from nltk.corpus import stopwords\n",
    "from nltk.stem import PorterStemmer\n",
    "stemmer=PorterStemmer()\n",
    "corpus=[]\n",
    "for i in range(0,len(df_train)):\n",
    "    text=re.sub('[^a-zA-Z]',' ', df_train['text'][i])\n",
    "    text=text.lower()\n",
    "    text=text.split()\n",
    "    text=[stemmer.stem(word) for word in text if word not in set(stopwords.words('english'))]\n",
    "    text=' '.join(text)\n",
    "    corpus.append(text)"
   ]
  },
  {
   "cell_type": "code",
   "execution_count": 7,
   "id": "5babec1d-c74a-4e5e-bd4d-9a08390f99ad",
   "metadata": {},
   "outputs": [],
   "source": [
    "# Vectorization\n",
    "from sklearn.feature_extraction.text import TfidfVectorizer\n",
    "vectorizer = TfidfVectorizer(max_features=3000)\n",
    "X = vectorizer.fit_transform(corpus).toarray()"
   ]
  },
  {
   "cell_type": "markdown",
   "id": "072965ce-507a-44bc-a462-e4aa003ffe30",
   "metadata": {},
   "source": [
    "# Encode Labels"
   ]
  },
  {
   "cell_type": "code",
   "execution_count": 9,
   "id": "e8e830d1-5ab3-4194-bf07-461370a9cef4",
   "metadata": {},
   "outputs": [],
   "source": [
    "# emotion\n",
    "emotion_encoder = LabelEncoder()\n",
    "y_emotion=emotion_encoder.fit_transform(df_train['label'])"
   ]
  },
  {
   "cell_type": "code",
   "execution_count": 19,
   "id": "1ebe7ca0-ea2d-4c8a-86b1-afeb6368690b",
   "metadata": {},
   "outputs": [],
   "source": [
    "emotion_to_advice = {\n",
    "    0: \"Talk to a friend\",           # sadness\n",
    "    1: \"Try deep breathing\",         # joy\n",
    "    2: \"Challenge your fear\",        # anger\n",
    "    3: \"Reflect on the cause\",       # fear\n",
    "    4: \"Celebrate your wins\",        # love\n",
    "    5: \"Share it\"                    # surprise\n",
    "}\n",
    "def add_advice(example):\n",
    "    example[\"advice\"] = emotion_to_advice.get(example[\"label\"], \"Take a moment\")\n",
    "    return example\n"
   ]
  },
  {
   "cell_type": "code",
   "execution_count": 23,
   "id": "fbe9974a-b31f-43d2-808c-a51932bb3946",
   "metadata": {},
   "outputs": [
    {
     "name": "stderr",
     "output_type": "stream",
     "text": [
      "Map: 100%|█████████████████████████████████████████████████████████████| 16000/16000 [00:01<00:00, 14173.31 examples/s]"
     ]
    },
    {
     "name": "stdout",
     "output_type": "stream",
     "text": [
      "                                                text  label  \\\n",
      "0                            i didnt feel humiliated      0   \n",
      "1  i can go from feeling so hopeless to so damned...      0   \n",
      "2   im grabbing a minute to post i feel greedy wrong      3   \n",
      "3  i am ever feeling nostalgic about the fireplac...      2   \n",
      "4                               i am feeling grouchy      3   \n",
      "\n",
      "                 advice  \n",
      "0      Talk to a friend  \n",
      "1      Talk to a friend  \n",
      "2  Reflect on the cause  \n",
      "3   Challenge your fear  \n",
      "4  Reflect on the cause  \n",
      "[4 4 2 ... 5 2 4]\n"
     ]
    },
    {
     "name": "stderr",
     "output_type": "stream",
     "text": [
      "\n"
     ]
    }
   ],
   "source": [
    "from datasets import load_dataset, Dataset\n",
    "df_train_dataset = Dataset.from_dict(df_train)\n",
    "\n",
    "\n",
    "emotion_to_advice = {\n",
    "    0: \"Talk to a friend\",     # sadness\n",
    "    1: \"Try deep breathing\",   # joy\n",
    "    2: \"Challenge your fear\",  # anger\n",
    "    3: \"Reflect on the cause\", # fear\n",
    "    4: \"Celebrate your wins\",  # love\n",
    "    5: \"Share it\"              # surprise\n",
    "}\n",
    "\n",
    "def add_advice(example):\n",
    "    example[\"advice\"] = emotion_to_advice.get(example[\"label\"], \"Take a moment\")\n",
    "    return example\n",
    "\n",
    "\n",
    "df_train_with_advice = df_train_dataset.map(add_advice)\n",
    "\n",
    "df_train_pandas = df_train_with_advice.to_pandas()\n",
    "\n",
    "\n",
    "#LabelEncoder on the advice\n",
    "advice_encoder = LabelEncoder()\n",
    "y_advice = advice_encoder.fit_transform(df_train_pandas[\"advice\"])\n",
    "\n",
    "print(df_train_pandas.head())\n",
    "print(y_advice)"
   ]
  },
  {
   "cell_type": "code",
   "execution_count": 24,
   "id": "b607651f-8c82-4320-8e61-ed0842aee9bc",
   "metadata": {},
   "outputs": [
    {
     "name": "stdout",
     "output_type": "stream",
     "text": [
      "{'text': Value(dtype='string', id=None), 'label': Value(dtype='int64', id=None), 'advice': Value(dtype='string', id=None)}\n"
     ]
    }
   ],
   "source": [
    "print(df_train_with_advice.features)"
   ]
  },
  {
   "cell_type": "code",
   "execution_count": 26,
   "id": "b5b525a4-445d-49d5-8c42-dbf2a791bd81",
   "metadata": {},
   "outputs": [
    {
     "name": "stderr",
     "output_type": "stream",
     "text": [
      "C:\\Users\\apoor\\AppData\\Roaming\\Python\\Python312\\site-packages\\keras\\src\\layers\\core\\dense.py:93: UserWarning: Do not pass an `input_shape`/`input_dim` argument to a layer. When using Sequential models, prefer using an `Input(shape)` object as the first layer in the model instead.\n",
      "  super().__init__(activity_regularizer=activity_regularizer, **kwargs)\n"
     ]
    }
   ],
   "source": [
    "emotion_model = Sequential([\n",
    "    Dense(128, activation='relu', input_shape=(X.shape[1],)),\n",
    "    Dropout(0.3),\n",
    "    Dense(64, activation='relu'),\n",
    "    Dense(len(np.unique(y_emotion)), activation='softmax')\n",
    "])"
   ]
  },
  {
   "cell_type": "code",
   "execution_count": 27,
   "id": "9e5ed8ef-12c9-4fbf-b664-0886e0e160a2",
   "metadata": {},
   "outputs": [
    {
     "name": "stdout",
     "output_type": "stream",
     "text": [
      "Epoch 1/10\n",
      "\u001b[1m8000/8000\u001b[0m \u001b[32m━━━━━━━━━━━━━━━━━━━━\u001b[0m\u001b[37m\u001b[0m \u001b[1m62s\u001b[0m 7ms/step - accuracy: 0.6282 - loss: 0.9983\n",
      "Epoch 2/10\n",
      "\u001b[1m8000/8000\u001b[0m \u001b[32m━━━━━━━━━━━━━━━━━━━━\u001b[0m\u001b[37m\u001b[0m \u001b[1m58s\u001b[0m 7ms/step - accuracy: 0.9025 - loss: 0.2754\n",
      "Epoch 3/10\n",
      "\u001b[1m8000/8000\u001b[0m \u001b[32m━━━━━━━━━━━━━━━━━━━━\u001b[0m\u001b[37m\u001b[0m \u001b[1m58s\u001b[0m 7ms/step - accuracy: 0.9425 - loss: 0.1618\n",
      "Epoch 4/10\n",
      "\u001b[1m8000/8000\u001b[0m \u001b[32m━━━━━━━━━━━━━━━━━━━━\u001b[0m\u001b[37m\u001b[0m \u001b[1m58s\u001b[0m 7ms/step - accuracy: 0.9623 - loss: 0.1100\n",
      "Epoch 5/10\n",
      "\u001b[1m8000/8000\u001b[0m \u001b[32m━━━━━━━━━━━━━━━━━━━━\u001b[0m\u001b[37m\u001b[0m \u001b[1m58s\u001b[0m 7ms/step - accuracy: 0.9740 - loss: 0.0761\n",
      "Epoch 6/10\n",
      "\u001b[1m8000/8000\u001b[0m \u001b[32m━━━━━━━━━━━━━━━━━━━━\u001b[0m\u001b[37m\u001b[0m \u001b[1m58s\u001b[0m 7ms/step - accuracy: 0.9830 - loss: 0.0497\n",
      "Epoch 7/10\n",
      "\u001b[1m8000/8000\u001b[0m \u001b[32m━━━━━━━━━━━━━━━━━━━━\u001b[0m\u001b[37m\u001b[0m \u001b[1m57s\u001b[0m 7ms/step - accuracy: 0.9844 - loss: 0.0447\n",
      "Epoch 8/10\n",
      "\u001b[1m8000/8000\u001b[0m \u001b[32m━━━━━━━━━━━━━━━━━━━━\u001b[0m\u001b[37m\u001b[0m \u001b[1m59s\u001b[0m 7ms/step - accuracy: 0.9873 - loss: 0.0329\n",
      "Epoch 9/10\n",
      "\u001b[1m8000/8000\u001b[0m \u001b[32m━━━━━━━━━━━━━━━━━━━━\u001b[0m\u001b[37m\u001b[0m \u001b[1m59s\u001b[0m 7ms/step - accuracy: 0.9907 - loss: 0.0260\n",
      "Epoch 10/10\n",
      "\u001b[1m8000/8000\u001b[0m \u001b[32m━━━━━━━━━━━━━━━━━━━━\u001b[0m\u001b[37m\u001b[0m \u001b[1m59s\u001b[0m 7ms/step - accuracy: 0.9921 - loss: 0.0218\n"
     ]
    },
    {
     "data": {
      "text/plain": [
       "<keras.src.callbacks.history.History at 0x20ce0f41040>"
      ]
     },
     "execution_count": 27,
     "metadata": {},
     "output_type": "execute_result"
    }
   ],
   "source": [
    "emotion_model.compile(loss='sparse_categorical_crossentropy', optimizer='adam', metrics=['accuracy'])\n",
    "emotion_model.fit(X, y_emotion, epochs=10, batch_size=2, verbose=1)"
   ]
  },
  {
   "cell_type": "code",
   "execution_count": 28,
   "id": "23d4373f-6f9b-46c1-8bd3-a6801ceba190",
   "metadata": {},
   "outputs": [
    {
     "name": "stdout",
     "output_type": "stream",
     "text": [
      "Epoch 1/10\n",
      "\u001b[1m8000/8000\u001b[0m \u001b[32m━━━━━━━━━━━━━━━━━━━━\u001b[0m\u001b[37m\u001b[0m \u001b[1m59s\u001b[0m 7ms/step - accuracy: 0.6144 - loss: 1.0082\n",
      "Epoch 2/10\n",
      "\u001b[1m8000/8000\u001b[0m \u001b[32m━━━━━━━━━━━━━━━━━━━━\u001b[0m\u001b[37m\u001b[0m \u001b[1m61s\u001b[0m 8ms/step - accuracy: 0.9009 - loss: 0.2764\n",
      "Epoch 3/10\n",
      "\u001b[1m8000/8000\u001b[0m \u001b[32m━━━━━━━━━━━━━━━━━━━━\u001b[0m\u001b[37m\u001b[0m \u001b[1m65s\u001b[0m 8ms/step - accuracy: 0.9376 - loss: 0.1677\n",
      "Epoch 4/10\n",
      "\u001b[1m8000/8000\u001b[0m \u001b[32m━━━━━━━━━━━━━━━━━━━━\u001b[0m\u001b[37m\u001b[0m \u001b[1m79s\u001b[0m 10ms/step - accuracy: 0.9588 - loss: 0.1126\n",
      "Epoch 5/10\n",
      "\u001b[1m8000/8000\u001b[0m \u001b[32m━━━━━━━━━━━━━━━━━━━━\u001b[0m\u001b[37m\u001b[0m \u001b[1m75s\u001b[0m 9ms/step - accuracy: 0.9738 - loss: 0.0752\n",
      "Epoch 6/10\n",
      "\u001b[1m8000/8000\u001b[0m \u001b[32m━━━━━━━━━━━━━━━━━━━━\u001b[0m\u001b[37m\u001b[0m \u001b[1m58s\u001b[0m 7ms/step - accuracy: 0.9800 - loss: 0.0550\n",
      "Epoch 7/10\n",
      "\u001b[1m8000/8000\u001b[0m \u001b[32m━━━━━━━━━━━━━━━━━━━━\u001b[0m\u001b[37m\u001b[0m \u001b[1m58s\u001b[0m 7ms/step - accuracy: 0.9863 - loss: 0.0378\n",
      "Epoch 8/10\n",
      "\u001b[1m8000/8000\u001b[0m \u001b[32m━━━━━━━━━━━━━━━━━━━━\u001b[0m\u001b[37m\u001b[0m \u001b[1m58s\u001b[0m 7ms/step - accuracy: 0.9880 - loss: 0.0346\n",
      "Epoch 9/10\n",
      "\u001b[1m8000/8000\u001b[0m \u001b[32m━━━━━━━━━━━━━━━━━━━━\u001b[0m\u001b[37m\u001b[0m \u001b[1m59s\u001b[0m 7ms/step - accuracy: 0.9904 - loss: 0.0271\n",
      "Epoch 10/10\n",
      "\u001b[1m8000/8000\u001b[0m \u001b[32m━━━━━━━━━━━━━━━━━━━━\u001b[0m\u001b[37m\u001b[0m \u001b[1m60s\u001b[0m 7ms/step - accuracy: 0.9917 - loss: 0.0224\n"
     ]
    },
    {
     "data": {
      "text/plain": [
       "<keras.src.callbacks.history.History at 0x20ce0f40740>"
      ]
     },
     "execution_count": 28,
     "metadata": {},
     "output_type": "execute_result"
    }
   ],
   "source": [
    "advice_model = Sequential([\n",
    "    Dense(128, activation='relu', input_shape=(X.shape[1],)),\n",
    "    Dropout(0.3),\n",
    "    Dense(64, activation='relu'),\n",
    "    Dense(len(np.unique(y_advice)), activation='softmax')\n",
    "])\n",
    "\n",
    "advice_model.compile(loss='sparse_categorical_crossentropy', optimizer='adam', metrics=['accuracy'])\n",
    "advice_model.fit(X, y_advice, epochs=10, batch_size=2, verbose=1)"
   ]
  },
  {
   "cell_type": "code",
   "execution_count": 29,
   "id": "9ebe1fa6-8f20-493c-b31d-b5fecae56934",
   "metadata": {},
   "outputs": [],
   "source": [
    "#Rule-Based Distortion Detection\n",
    "def detect_distortion(text):\n",
    "    text = text.lower()\n",
    "    if \"always\" in text or \"never\" in text:\n",
    "        return \"Overgeneralization\"\n",
    "    elif \"disaster\" in text or \"ruined\" in text:\n",
    "        return \"Catastrophizing\"\n",
    "    elif \"they probably think\" in text:\n",
    "        return \"Mind Reading\"\n",
    "    else:\n",
    "        return \"None\""
   ]
  },
  {
   "cell_type": "code",
   "execution_count": 30,
   "id": "61ff721f-ee12-4393-a7fd-f87a99657b69",
   "metadata": {},
   "outputs": [],
   "source": [
    "#Analyze New Entry\n",
    "def analyze_entry(user_input):\n",
    "    processed = preprocess(user_input)\n",
    "    vector = vectorizer.transform([processed]).toarray()\n",
    "\n",
    "    emotion_pred = emotion_model.predict(vector)\n",
    "    emotion_label = emotion_encoder.inverse_transform([emotion_pred.argmax()])[0]\n",
    "\n",
    "    advice_pred = advice_model.predict(vector)\n",
    "    advice_label = advice_encoder.inverse_transform([advice_pred.argmax()])[0]\n",
    "\n",
    "    distortion = detect_distortion(user_input)\n",
    "\n",
    "    return emotion_label, distortion, advice_label"
   ]
  },
  {
   "cell_type": "code",
   "execution_count": 31,
   "id": "ffe72802-1f56-43eb-b88e-9c7367d98080",
   "metadata": {},
   "outputs": [
    {
     "name": "stderr",
     "output_type": "stream",
     "text": [
      "WARNING:absl:You are saving your model as an HDF5 file via `model.save()` or `keras.saving.save_model(model)`. This file format is considered legacy. We recommend using instead the native Keras format, e.g. `model.save('my_model.keras')` or `keras.saving.save_model(model, 'my_model.keras')`. \n",
      "WARNING:absl:You are saving your model as an HDF5 file via `model.save()` or `keras.saving.save_model(model)`. This file format is considered legacy. We recommend using instead the native Keras format, e.g. `model.save('my_model.keras')` or `keras.saving.save_model(model, 'my_model.keras')`. \n"
     ]
    },
    {
     "data": {
      "text/plain": [
       "['advice_encoder.pkl']"
      ]
     },
     "execution_count": 31,
     "metadata": {},
     "output_type": "execute_result"
    }
   ],
   "source": [
    "# Save Models and Vectorizer\n",
    "joblib.dump(vectorizer, \"tfidf_vectorizer.pkl\")\n",
    "emotion_model.save(\"emotion_model.h5\")\n",
    "advice_model.save(\"advice_model.h5\")\n",
    "joblib.dump(emotion_encoder, \"emotion_encoder.pkl\")\n",
    "joblib.dump(advice_encoder, \"advice_encoder.pkl\")"
   ]
  },
  {
   "cell_type": "code",
   "execution_count": null,
   "id": "a5153092-45ef-45b7-82f8-c27c57c94e50",
   "metadata": {},
   "outputs": [],
   "source": []
  }
 ],
 "metadata": {
  "kernelspec": {
   "display_name": "Python 3 (ipykernel)",
   "language": "python",
   "name": "python3"
  },
  "language_info": {
   "codemirror_mode": {
    "name": "ipython",
    "version": 3
   },
   "file_extension": ".py",
   "mimetype": "text/x-python",
   "name": "python",
   "nbconvert_exporter": "python",
   "pygments_lexer": "ipython3",
   "version": "3.12.4"
  }
 },
 "nbformat": 4,
 "nbformat_minor": 5
}
