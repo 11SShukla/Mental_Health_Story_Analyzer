{
 "cells": [
  {
   "cell_type": "code",
   "execution_count": 5,
   "id": "c6e18cf6-fad7-4c82-8c46-f26af7924731",
   "metadata": {},
   "outputs": [
    {
     "name": "stderr",
     "output_type": "stream",
     "text": [
      "WARNING:absl:Compiled the loaded model, but the compiled metrics have yet to be built. `model.compile_metrics` will be empty until you train or evaluate the model.\n",
      "WARNING:absl:Compiled the loaded model, but the compiled metrics have yet to be built. `model.compile_metrics` will be empty until you train or evaluate the model.\n",
      "2025-06-28 01:35:58.299 Thread 'MainThread': missing ScriptRunContext! This warning can be ignored when running in bare mode.\n",
      "2025-06-28 01:35:58.300 Thread 'MainThread': missing ScriptRunContext! This warning can be ignored when running in bare mode.\n",
      "2025-06-28 01:35:58.302 Thread 'MainThread': missing ScriptRunContext! This warning can be ignored when running in bare mode.\n",
      "2025-06-28 01:35:58.306 Thread 'MainThread': missing ScriptRunContext! This warning can be ignored when running in bare mode.\n",
      "2025-06-28 01:35:58.308 Thread 'MainThread': missing ScriptRunContext! This warning can be ignored when running in bare mode.\n",
      "2025-06-28 01:35:58.309 Thread 'MainThread': missing ScriptRunContext! This warning can be ignored when running in bare mode.\n",
      "2025-06-28 01:35:58.313 Thread 'MainThread': missing ScriptRunContext! This warning can be ignored when running in bare mode.\n",
      "2025-06-28 01:35:58.314 Thread 'MainThread': missing ScriptRunContext! This warning can be ignored when running in bare mode.\n",
      "2025-06-28 01:35:58.317 Thread 'MainThread': missing ScriptRunContext! This warning can be ignored when running in bare mode.\n",
      "2025-06-28 01:35:58.318 Thread 'MainThread': missing ScriptRunContext! This warning can be ignored when running in bare mode.\n",
      "2025-06-28 01:35:58.321 Thread 'MainThread': missing ScriptRunContext! This warning can be ignored when running in bare mode.\n",
      "2025-06-28 01:35:58.325 Thread 'MainThread': missing ScriptRunContext! This warning can be ignored when running in bare mode.\n",
      "2025-06-28 01:35:58.326 Thread 'MainThread': missing ScriptRunContext! This warning can be ignored when running in bare mode.\n",
      "2025-06-28 01:35:58.329 Thread 'MainThread': missing ScriptRunContext! This warning can be ignored when running in bare mode.\n",
      "2025-06-28 01:35:58.330 Thread 'MainThread': missing ScriptRunContext! This warning can be ignored when running in bare mode.\n",
      "2025-06-28 01:35:58.332 Thread 'MainThread': missing ScriptRunContext! This warning can be ignored when running in bare mode.\n",
      "2025-06-28 01:35:58.334 Thread 'MainThread': missing ScriptRunContext! This warning can be ignored when running in bare mode.\n",
      "2025-06-28 01:35:58.336 Thread 'MainThread': missing ScriptRunContext! This warning can be ignored when running in bare mode.\n",
      "2025-06-28 01:35:58.338 Thread 'MainThread': missing ScriptRunContext! This warning can be ignored when running in bare mode.\n"
     ]
    }
   ],
   "source": [
    "# app.py\n",
    "\n",
    "import streamlit as st\n",
    "import numpy as np\n",
    "import joblib\n",
    "import tensorflow as tf\n",
    "from tensorflow.keras.models import load_model\n",
    "from sklearn.feature_extraction.text import TfidfVectorizer\n",
    "\n",
    "# Load models and encoders\n",
    "emotion_model = load_model(\"emotion_model.h5\")\n",
    "advice_model = load_model(\"advice_model.h5\")\n",
    "vectorizer = joblib.load(\"tfidf_vectorizer.pkl\")\n",
    "emotion_encoder = joblib.load(\"emotion_encoder.pkl\")\n",
    "advice_encoder = joblib.load(\"advice_encoder.pkl\")\n",
    "\n",
    "# Title\n",
    "st.title(\"🧠 Mental Health Story Analyzer\")\n",
    "st.markdown(\"Analyze your thoughts and get emotional insight, detect distortions, and receive supportive advice.\")\n",
    "\n",
    "# Text input\n",
    "user_input = st.text_area(\"Enter your mental health story here 👇\", height=200)\n",
    "\n",
    "if st.button(\"Analyze\"):\n",
    "    if user_input.strip() == \"\":\n",
    "        st.warning(\"Please enter a valid story.\")\n",
    "    else:\n",
    "        # Vectorize text\n",
    "        X = vectorizer.transform([user_input])\n",
    "\n",
    "        # Emotion prediction\n",
    "        emotion_probs = emotion_model.predict(X)\n",
    "        emotion_index = np.argmax(emotion_probs)\n",
    "        emotion_label = emotion_encoder.inverse_transform([emotion_index])[0]\n",
    "\n",
    "        # Advice prediction\n",
    "        advice_probs = advice_model.predict(X)\n",
    "        advice_index = np.argmax(advice_probs)\n",
    "        advice_label = advice_encoder.inverse_transform([advice_index])[0]\n",
    "\n",
    "        # Rule-based cognitive distortion detection (simplified)\n",
    "        def detect_distortion(text):\n",
    "            text = text.lower()\n",
    "            if \"always\" in text or \"never\" in text:\n",
    "                return \"Overgeneralization\"\n",
    "            elif \"everyone hates me\" in text:\n",
    "                return \"Personalization\"\n",
    "            elif \"i'm a failure\" in text:\n",
    "                return \"Labeling\"\n",
    "            elif \"what if\" in text:\n",
    "                return \"Catastrophizing\"\n",
    "            return \"None detected\"\n",
    "\n",
    "        distortion = detect_distortion(user_input)\n",
    "\n",
    "        # Display results\n",
    "        st.subheader(\"🔍 Analysis Results\")\n",
    "        st.write(f\"**Detected Emotion:** `{emotion_label}`\")\n",
    "        st.write(f\"**Cognitive Distortion:** `{distortion}`\")\n",
    "        st.write(f\"**Supportive Advice:** `{advice_label}`\")\n"
   ]
  },
  {
   "cell_type": "code",
   "execution_count": null,
   "id": "c827550c-a7b1-4a3d-95bc-c7a8369ee70f",
   "metadata": {},
   "outputs": [],
   "source": []
  },
  {
   "cell_type": "code",
   "execution_count": null,
   "id": "57f31ab3-4fd7-4c41-9658-0da2ab98bb44",
   "metadata": {},
   "outputs": [],
   "source": []
  }
 ],
 "metadata": {
  "kernelspec": {
   "display_name": "Python 3 (ipykernel)",
   "language": "python",
   "name": "python3"
  },
  "language_info": {
   "codemirror_mode": {
    "name": "ipython",
    "version": 3
   },
   "file_extension": ".py",
   "mimetype": "text/x-python",
   "name": "python",
   "nbconvert_exporter": "python",
   "pygments_lexer": "ipython3",
   "version": "3.12.4"
  }
 },
 "nbformat": 4,
 "nbformat_minor": 5
}
